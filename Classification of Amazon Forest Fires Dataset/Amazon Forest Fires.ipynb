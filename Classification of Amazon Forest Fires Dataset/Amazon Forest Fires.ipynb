{
 "cells": [
  {
   "cell_type": "code",
   "execution_count": 5,
   "id": "a6e79ff1",
   "metadata": {},
   "outputs": [],
   "source": [
    "import pandas as pd\n",
    "import numpy as np\n",
    "from deep_translator import GoogleTranslator\n",
    "import matplotlib.pyplot as plt; plt.rcdefaults()"
   ]
  },
  {
   "cell_type": "code",
   "execution_count": 9,
   "id": "2aabef53",
   "metadata": {},
   "outputs": [],
   "source": [
    "df = pd.read_csv(\"amazon.csv\", encoding = \"ISO-8859-1\", thousands = \".\")"
   ]
  },
  {
   "cell_type": "code",
   "execution_count": 15,
   "id": "60dbf329-32b5-4981-98e7-fa3bd93f35bd",
   "metadata": {},
   "outputs": [
    {
     "name": "stdout",
     "output_type": "stream",
     "text": [
      "      year      state     month  number        date\n",
      "0     1998       Acre   Janeiro       0  1998-01-01\n",
      "1     1999       Acre   Janeiro       0  1999-01-01\n",
      "2     2000       Acre   Janeiro       0  2000-01-01\n",
      "3     2001       Acre   Janeiro       0  2001-01-01\n",
      "4     2002       Acre   Janeiro       0  2002-01-01\n",
      "...    ...        ...       ...     ...         ...\n",
      "6449  2012  Tocantins  Dezembro     128  2012-01-01\n",
      "6450  2013  Tocantins  Dezembro      85  2013-01-01\n",
      "6451  2014  Tocantins  Dezembro     223  2014-01-01\n",
      "6452  2015  Tocantins  Dezembro     373  2015-01-01\n",
      "6453  2016  Tocantins  Dezembro     119  2016-01-01\n",
      "\n",
      "[6454 rows x 5 columns]\n"
     ]
    }
   ],
   "source": [
    "print(df)"
   ]
  },
  {
   "cell_type": "code",
   "execution_count": 17,
   "id": "99cc68ff-ae38-4bd4-913a-8f6e01178674",
   "metadata": {},
   "outputs": [
    {
     "data": {
      "text/plain": [
       "<bound method NDFrame.head of       year      state     month  number        date\n",
       "0     1998       Acre   Janeiro       0  1998-01-01\n",
       "1     1999       Acre   Janeiro       0  1999-01-01\n",
       "2     2000       Acre   Janeiro       0  2000-01-01\n",
       "3     2001       Acre   Janeiro       0  2001-01-01\n",
       "4     2002       Acre   Janeiro       0  2002-01-01\n",
       "...    ...        ...       ...     ...         ...\n",
       "6449  2012  Tocantins  Dezembro     128  2012-01-01\n",
       "6450  2013  Tocantins  Dezembro      85  2013-01-01\n",
       "6451  2014  Tocantins  Dezembro     223  2014-01-01\n",
       "6452  2015  Tocantins  Dezembro     373  2015-01-01\n",
       "6453  2016  Tocantins  Dezembro     119  2016-01-01\n",
       "\n",
       "[6454 rows x 5 columns]>"
      ]
     },
     "execution_count": 17,
     "metadata": {},
     "output_type": "execute_result"
    }
   ],
   "source": [
    "df.head"
   ]
  },
  {
   "cell_type": "code",
   "execution_count": 19,
   "id": "4ac3c78a-f028-492f-b775-16f604853cec",
   "metadata": {},
   "outputs": [
    {
     "data": {
      "text/plain": [
       "<bound method NDFrame.tail of       year      state     month  number        date\n",
       "0     1998       Acre   Janeiro       0  1998-01-01\n",
       "1     1999       Acre   Janeiro       0  1999-01-01\n",
       "2     2000       Acre   Janeiro       0  2000-01-01\n",
       "3     2001       Acre   Janeiro       0  2001-01-01\n",
       "4     2002       Acre   Janeiro       0  2002-01-01\n",
       "...    ...        ...       ...     ...         ...\n",
       "6449  2012  Tocantins  Dezembro     128  2012-01-01\n",
       "6450  2013  Tocantins  Dezembro      85  2013-01-01\n",
       "6451  2014  Tocantins  Dezembro     223  2014-01-01\n",
       "6452  2015  Tocantins  Dezembro     373  2015-01-01\n",
       "6453  2016  Tocantins  Dezembro     119  2016-01-01\n",
       "\n",
       "[6454 rows x 5 columns]>"
      ]
     },
     "execution_count": 19,
     "metadata": {},
     "output_type": "execute_result"
    }
   ],
   "source": [
    "df.tail"
   ]
  },
  {
   "cell_type": "code",
   "execution_count": 21,
   "id": "f5e9f6b5-53a7-4019-8eaa-30d0e92f7d36",
   "metadata": {},
   "outputs": [
    {
     "data": {
      "text/plain": [
       "(6454, 5)"
      ]
     },
     "execution_count": 21,
     "metadata": {},
     "output_type": "execute_result"
    }
   ],
   "source": [
    "df.shape"
   ]
  },
  {
   "cell_type": "code",
   "execution_count": 23,
   "id": "93f53296-2963-4adf-8e20-cd72910167b3",
   "metadata": {},
   "outputs": [
    {
     "data": {
      "text/plain": [
       "<bound method NDFrame.describe of       year      state     month  number        date\n",
       "0     1998       Acre   Janeiro       0  1998-01-01\n",
       "1     1999       Acre   Janeiro       0  1999-01-01\n",
       "2     2000       Acre   Janeiro       0  2000-01-01\n",
       "3     2001       Acre   Janeiro       0  2001-01-01\n",
       "4     2002       Acre   Janeiro       0  2002-01-01\n",
       "...    ...        ...       ...     ...         ...\n",
       "6449  2012  Tocantins  Dezembro     128  2012-01-01\n",
       "6450  2013  Tocantins  Dezembro      85  2013-01-01\n",
       "6451  2014  Tocantins  Dezembro     223  2014-01-01\n",
       "6452  2015  Tocantins  Dezembro     373  2015-01-01\n",
       "6453  2016  Tocantins  Dezembro     119  2016-01-01\n",
       "\n",
       "[6454 rows x 5 columns]>"
      ]
     },
     "execution_count": 23,
     "metadata": {},
     "output_type": "execute_result"
    }
   ],
   "source": [
    "df.describe"
   ]
  },
  {
   "cell_type": "code",
   "execution_count": 25,
   "id": "4e691c74-2595-4ebe-9cd0-a2a5deb5ca37",
   "metadata": {},
   "outputs": [
    {
     "data": {
      "text/html": [
       "<div>\n",
       "<style scoped>\n",
       "    .dataframe tbody tr th:only-of-type {\n",
       "        vertical-align: middle;\n",
       "    }\n",
       "\n",
       "    .dataframe tbody tr th {\n",
       "        vertical-align: top;\n",
       "    }\n",
       "\n",
       "    .dataframe thead th {\n",
       "        text-align: right;\n",
       "    }\n",
       "</style>\n",
       "<table border=\"1\" class=\"dataframe\">\n",
       "  <thead>\n",
       "    <tr style=\"text-align: right;\">\n",
       "      <th></th>\n",
       "      <th>year</th>\n",
       "      <th>state</th>\n",
       "      <th>month</th>\n",
       "      <th>number</th>\n",
       "      <th>date</th>\n",
       "    </tr>\n",
       "  </thead>\n",
       "  <tbody>\n",
       "    <tr>\n",
       "      <th>count</th>\n",
       "      <td>6454.000000</td>\n",
       "      <td>6454</td>\n",
       "      <td>6454</td>\n",
       "      <td>6454.000000</td>\n",
       "      <td>6454</td>\n",
       "    </tr>\n",
       "    <tr>\n",
       "      <th>unique</th>\n",
       "      <td>NaN</td>\n",
       "      <td>23</td>\n",
       "      <td>12</td>\n",
       "      <td>NaN</td>\n",
       "      <td>20</td>\n",
       "    </tr>\n",
       "    <tr>\n",
       "      <th>top</th>\n",
       "      <td>NaN</td>\n",
       "      <td>Rio</td>\n",
       "      <td>Janeiro</td>\n",
       "      <td>NaN</td>\n",
       "      <td>1998-01-01</td>\n",
       "    </tr>\n",
       "    <tr>\n",
       "      <th>freq</th>\n",
       "      <td>NaN</td>\n",
       "      <td>717</td>\n",
       "      <td>541</td>\n",
       "      <td>NaN</td>\n",
       "      <td>324</td>\n",
       "    </tr>\n",
       "    <tr>\n",
       "      <th>mean</th>\n",
       "      <td>2007.461729</td>\n",
       "      <td>NaN</td>\n",
       "      <td>NaN</td>\n",
       "      <td>522.696312</td>\n",
       "      <td>NaN</td>\n",
       "    </tr>\n",
       "    <tr>\n",
       "      <th>std</th>\n",
       "      <td>5.746654</td>\n",
       "      <td>NaN</td>\n",
       "      <td>NaN</td>\n",
       "      <td>1554.846486</td>\n",
       "      <td>NaN</td>\n",
       "    </tr>\n",
       "    <tr>\n",
       "      <th>min</th>\n",
       "      <td>1998.000000</td>\n",
       "      <td>NaN</td>\n",
       "      <td>NaN</td>\n",
       "      <td>0.000000</td>\n",
       "      <td>NaN</td>\n",
       "    </tr>\n",
       "    <tr>\n",
       "      <th>25%</th>\n",
       "      <td>2002.000000</td>\n",
       "      <td>NaN</td>\n",
       "      <td>NaN</td>\n",
       "      <td>9.000000</td>\n",
       "      <td>NaN</td>\n",
       "    </tr>\n",
       "    <tr>\n",
       "      <th>50%</th>\n",
       "      <td>2007.000000</td>\n",
       "      <td>NaN</td>\n",
       "      <td>NaN</td>\n",
       "      <td>54.000000</td>\n",
       "      <td>NaN</td>\n",
       "    </tr>\n",
       "    <tr>\n",
       "      <th>75%</th>\n",
       "      <td>2012.000000</td>\n",
       "      <td>NaN</td>\n",
       "      <td>NaN</td>\n",
       "      <td>269.000000</td>\n",
       "      <td>NaN</td>\n",
       "    </tr>\n",
       "    <tr>\n",
       "      <th>max</th>\n",
       "      <td>2017.000000</td>\n",
       "      <td>NaN</td>\n",
       "      <td>NaN</td>\n",
       "      <td>25963.000000</td>\n",
       "      <td>NaN</td>\n",
       "    </tr>\n",
       "  </tbody>\n",
       "</table>\n",
       "</div>"
      ],
      "text/plain": [
       "               year state    month        number        date\n",
       "count   6454.000000  6454     6454   6454.000000        6454\n",
       "unique          NaN    23       12           NaN          20\n",
       "top             NaN   Rio  Janeiro           NaN  1998-01-01\n",
       "freq            NaN   717      541           NaN         324\n",
       "mean    2007.461729   NaN      NaN    522.696312         NaN\n",
       "std        5.746654   NaN      NaN   1554.846486         NaN\n",
       "min     1998.000000   NaN      NaN      0.000000         NaN\n",
       "25%     2002.000000   NaN      NaN      9.000000         NaN\n",
       "50%     2007.000000   NaN      NaN     54.000000         NaN\n",
       "75%     2012.000000   NaN      NaN    269.000000         NaN\n",
       "max     2017.000000   NaN      NaN  25963.000000         NaN"
      ]
     },
     "execution_count": 25,
     "metadata": {},
     "output_type": "execute_result"
    }
   ],
   "source": [
    "df.describe(include=\"all\")"
   ]
  },
  {
   "cell_type": "code",
   "execution_count": 27,
   "id": "c36d2926-b81a-4e29-9bb0-019f708bfcca",
   "metadata": {},
   "outputs": [
    {
     "data": {
      "text/html": [
       "<div>\n",
       "<style scoped>\n",
       "    .dataframe tbody tr th:only-of-type {\n",
       "        vertical-align: middle;\n",
       "    }\n",
       "\n",
       "    .dataframe tbody tr th {\n",
       "        vertical-align: top;\n",
       "    }\n",
       "\n",
       "    .dataframe thead th {\n",
       "        text-align: right;\n",
       "    }\n",
       "</style>\n",
       "<table border=\"1\" class=\"dataframe\">\n",
       "  <thead>\n",
       "    <tr style=\"text-align: right;\">\n",
       "      <th></th>\n",
       "      <th>year</th>\n",
       "      <th>state</th>\n",
       "      <th>month</th>\n",
       "      <th>number</th>\n",
       "      <th>date</th>\n",
       "    </tr>\n",
       "  </thead>\n",
       "  <tbody>\n",
       "    <tr>\n",
       "      <th>0</th>\n",
       "      <td>False</td>\n",
       "      <td>False</td>\n",
       "      <td>False</td>\n",
       "      <td>False</td>\n",
       "      <td>False</td>\n",
       "    </tr>\n",
       "    <tr>\n",
       "      <th>1</th>\n",
       "      <td>False</td>\n",
       "      <td>False</td>\n",
       "      <td>False</td>\n",
       "      <td>False</td>\n",
       "      <td>False</td>\n",
       "    </tr>\n",
       "    <tr>\n",
       "      <th>2</th>\n",
       "      <td>False</td>\n",
       "      <td>False</td>\n",
       "      <td>False</td>\n",
       "      <td>False</td>\n",
       "      <td>False</td>\n",
       "    </tr>\n",
       "    <tr>\n",
       "      <th>3</th>\n",
       "      <td>False</td>\n",
       "      <td>False</td>\n",
       "      <td>False</td>\n",
       "      <td>False</td>\n",
       "      <td>False</td>\n",
       "    </tr>\n",
       "    <tr>\n",
       "      <th>4</th>\n",
       "      <td>False</td>\n",
       "      <td>False</td>\n",
       "      <td>False</td>\n",
       "      <td>False</td>\n",
       "      <td>False</td>\n",
       "    </tr>\n",
       "    <tr>\n",
       "      <th>...</th>\n",
       "      <td>...</td>\n",
       "      <td>...</td>\n",
       "      <td>...</td>\n",
       "      <td>...</td>\n",
       "      <td>...</td>\n",
       "    </tr>\n",
       "    <tr>\n",
       "      <th>6449</th>\n",
       "      <td>False</td>\n",
       "      <td>False</td>\n",
       "      <td>False</td>\n",
       "      <td>False</td>\n",
       "      <td>False</td>\n",
       "    </tr>\n",
       "    <tr>\n",
       "      <th>6450</th>\n",
       "      <td>False</td>\n",
       "      <td>False</td>\n",
       "      <td>False</td>\n",
       "      <td>False</td>\n",
       "      <td>False</td>\n",
       "    </tr>\n",
       "    <tr>\n",
       "      <th>6451</th>\n",
       "      <td>False</td>\n",
       "      <td>False</td>\n",
       "      <td>False</td>\n",
       "      <td>False</td>\n",
       "      <td>False</td>\n",
       "    </tr>\n",
       "    <tr>\n",
       "      <th>6452</th>\n",
       "      <td>False</td>\n",
       "      <td>False</td>\n",
       "      <td>False</td>\n",
       "      <td>False</td>\n",
       "      <td>False</td>\n",
       "    </tr>\n",
       "    <tr>\n",
       "      <th>6453</th>\n",
       "      <td>False</td>\n",
       "      <td>False</td>\n",
       "      <td>False</td>\n",
       "      <td>False</td>\n",
       "      <td>False</td>\n",
       "    </tr>\n",
       "  </tbody>\n",
       "</table>\n",
       "<p>6454 rows × 5 columns</p>\n",
       "</div>"
      ],
      "text/plain": [
       "       year  state  month  number   date\n",
       "0     False  False  False   False  False\n",
       "1     False  False  False   False  False\n",
       "2     False  False  False   False  False\n",
       "3     False  False  False   False  False\n",
       "4     False  False  False   False  False\n",
       "...     ...    ...    ...     ...    ...\n",
       "6449  False  False  False   False  False\n",
       "6450  False  False  False   False  False\n",
       "6451  False  False  False   False  False\n",
       "6452  False  False  False   False  False\n",
       "6453  False  False  False   False  False\n",
       "\n",
       "[6454 rows x 5 columns]"
      ]
     },
     "execution_count": 27,
     "metadata": {},
     "output_type": "execute_result"
    }
   ],
   "source": [
    "df.isna()"
   ]
  },
  {
   "cell_type": "code",
   "execution_count": 29,
   "id": "0ccbd4c5-6364-408d-b9e6-26c64825ce6f",
   "metadata": {},
   "outputs": [
    {
     "data": {
      "text/plain": [
       "year      0\n",
       "state     0\n",
       "month     0\n",
       "number    0\n",
       "date      0\n",
       "dtype: int64"
      ]
     },
     "execution_count": 29,
     "metadata": {},
     "output_type": "execute_result"
    }
   ],
   "source": [
    "df.isna().sum()"
   ]
  },
  {
   "cell_type": "code",
   "execution_count": 31,
   "id": "fae94491-8647-4f9c-b687-136910f469bc",
   "metadata": {},
   "outputs": [],
   "source": [
    "df = df.replace(0, np.nan)"
   ]
  },
  {
   "cell_type": "code",
   "execution_count": 37,
   "id": "77fd0520-145e-4dee-99f7-a737e10d287d",
   "metadata": {},
   "outputs": [],
   "source": [
    "df2 = df.dropna(subset = ['number'])"
   ]
  },
  {
   "cell_type": "code",
   "execution_count": 39,
   "id": "8613c8ec-7544-4369-a0e9-7d9d2b645d60",
   "metadata": {},
   "outputs": [
    {
     "data": {
      "text/html": [
       "<div>\n",
       "<style scoped>\n",
       "    .dataframe tbody tr th:only-of-type {\n",
       "        vertical-align: middle;\n",
       "    }\n",
       "\n",
       "    .dataframe tbody tr th {\n",
       "        vertical-align: top;\n",
       "    }\n",
       "\n",
       "    .dataframe thead th {\n",
       "        text-align: right;\n",
       "    }\n",
       "</style>\n",
       "<table border=\"1\" class=\"dataframe\">\n",
       "  <thead>\n",
       "    <tr style=\"text-align: right;\">\n",
       "      <th></th>\n",
       "      <th>year</th>\n",
       "      <th>state</th>\n",
       "      <th>month</th>\n",
       "      <th>number</th>\n",
       "      <th>date</th>\n",
       "    </tr>\n",
       "  </thead>\n",
       "  <tbody>\n",
       "    <tr>\n",
       "      <th>count</th>\n",
       "      <td>5837.000000</td>\n",
       "      <td>5837</td>\n",
       "      <td>5837</td>\n",
       "      <td>5837.000000</td>\n",
       "      <td>5837</td>\n",
       "    </tr>\n",
       "    <tr>\n",
       "      <th>unique</th>\n",
       "      <td>NaN</td>\n",
       "      <td>23</td>\n",
       "      <td>12</td>\n",
       "      <td>NaN</td>\n",
       "      <td>20</td>\n",
       "    </tr>\n",
       "    <tr>\n",
       "      <th>top</th>\n",
       "      <td>NaN</td>\n",
       "      <td>Rio</td>\n",
       "      <td>Outubro</td>\n",
       "      <td>NaN</td>\n",
       "      <td>2016-01-01</td>\n",
       "    </tr>\n",
       "    <tr>\n",
       "      <th>freq</th>\n",
       "      <td>NaN</td>\n",
       "      <td>661</td>\n",
       "      <td>534</td>\n",
       "      <td>NaN</td>\n",
       "      <td>317</td>\n",
       "    </tr>\n",
       "    <tr>\n",
       "      <th>mean</th>\n",
       "      <td>2007.834847</td>\n",
       "      <td>NaN</td>\n",
       "      <td>NaN</td>\n",
       "      <td>577.947918</td>\n",
       "      <td>NaN</td>\n",
       "    </tr>\n",
       "    <tr>\n",
       "      <th>std</th>\n",
       "      <td>5.649076</td>\n",
       "      <td>NaN</td>\n",
       "      <td>NaN</td>\n",
       "      <td>1625.176973</td>\n",
       "      <td>NaN</td>\n",
       "    </tr>\n",
       "    <tr>\n",
       "      <th>min</th>\n",
       "      <td>1998.000000</td>\n",
       "      <td>NaN</td>\n",
       "      <td>NaN</td>\n",
       "      <td>1.000000</td>\n",
       "      <td>NaN</td>\n",
       "    </tr>\n",
       "    <tr>\n",
       "      <th>25%</th>\n",
       "      <td>2003.000000</td>\n",
       "      <td>NaN</td>\n",
       "      <td>NaN</td>\n",
       "      <td>16.000000</td>\n",
       "      <td>NaN</td>\n",
       "    </tr>\n",
       "    <tr>\n",
       "      <th>50%</th>\n",
       "      <td>2008.000000</td>\n",
       "      <td>NaN</td>\n",
       "      <td>NaN</td>\n",
       "      <td>72.000000</td>\n",
       "      <td>NaN</td>\n",
       "    </tr>\n",
       "    <tr>\n",
       "      <th>75%</th>\n",
       "      <td>2013.000000</td>\n",
       "      <td>NaN</td>\n",
       "      <td>NaN</td>\n",
       "      <td>334.000000</td>\n",
       "      <td>NaN</td>\n",
       "    </tr>\n",
       "    <tr>\n",
       "      <th>max</th>\n",
       "      <td>2017.000000</td>\n",
       "      <td>NaN</td>\n",
       "      <td>NaN</td>\n",
       "      <td>25963.000000</td>\n",
       "      <td>NaN</td>\n",
       "    </tr>\n",
       "  </tbody>\n",
       "</table>\n",
       "</div>"
      ],
      "text/plain": [
       "               year state    month        number        date\n",
       "count   5837.000000  5837     5837   5837.000000        5837\n",
       "unique          NaN    23       12           NaN          20\n",
       "top             NaN   Rio  Outubro           NaN  2016-01-01\n",
       "freq            NaN   661      534           NaN         317\n",
       "mean    2007.834847   NaN      NaN    577.947918         NaN\n",
       "std        5.649076   NaN      NaN   1625.176973         NaN\n",
       "min     1998.000000   NaN      NaN      1.000000         NaN\n",
       "25%     2003.000000   NaN      NaN     16.000000         NaN\n",
       "50%     2008.000000   NaN      NaN     72.000000         NaN\n",
       "75%     2013.000000   NaN      NaN    334.000000         NaN\n",
       "max     2017.000000   NaN      NaN  25963.000000         NaN"
      ]
     },
     "execution_count": 39,
     "metadata": {},
     "output_type": "execute_result"
    }
   ],
   "source": [
    "df2.describe(include=\"all\")"
   ]
  },
  {
   "cell_type": "code",
   "execution_count": 41,
   "id": "f3299574-3d63-45e4-8056-c8e920216056",
   "metadata": {},
   "outputs": [],
   "source": [
    "forest_fire_per_month = df2.groupby('month')['number'].sum()"
   ]
  },
  {
   "cell_type": "code",
   "execution_count": 43,
   "id": "e0907913-43ce-4cfb-98fe-28de881dee09",
   "metadata": {},
   "outputs": [
    {
     "data": {
      "text/plain": [
       "month\n",
       "Abril          28364.0\n",
       "Agosto        740841.0\n",
       "Dezembro      152596.0\n",
       "Fevereiro      30952.0\n",
       "Janeiro        52587.0\n",
       "Julho         217620.0\n",
       "Junho         111405.0\n",
       "Maio           46083.0\n",
       "Março          35118.0\n",
       "Novembro      312326.0\n",
       "Outubro       629665.0\n",
       "Setembro     1015925.0\n",
       "Name: number, dtype: float64"
      ]
     },
     "execution_count": 43,
     "metadata": {},
     "output_type": "execute_result"
    }
   ],
   "source": [
    "forest_fire_per_month"
   ]
  },
  {
   "cell_type": "code",
   "execution_count": 45,
   "id": "799ac50f-897a-4981-8d1d-e306cc92d44c",
   "metadata": {},
   "outputs": [],
   "source": [
    "month_unique = list(df.month.unique())"
   ]
  },
  {
   "cell_type": "code",
   "execution_count": 47,
   "id": "1c4fb28f-e0cd-40a5-9a34-bb90933e3a28",
   "metadata": {},
   "outputs": [
    {
     "data": {
      "text/plain": [
       "['Janeiro',\n",
       " 'Fevereiro',\n",
       " 'Março',\n",
       " 'Abril',\n",
       " 'Maio',\n",
       " 'Junho',\n",
       " 'Julho',\n",
       " 'Agosto',\n",
       " 'Setembro',\n",
       " 'Outubro',\n",
       " 'Novembro',\n",
       " 'Dezembro']"
      ]
     },
     "execution_count": 47,
     "metadata": {},
     "output_type": "execute_result"
    }
   ],
   "source": [
    "month_unique"
   ]
  },
  {
   "cell_type": "code",
   "execution_count": 51,
   "id": "d3d342e8-a114-411c-9034-ea33e5586dca",
   "metadata": {},
   "outputs": [],
   "source": [
    "forest_fire_per_month = forest_fire_per_month.reindex(month_unique, axis=0)"
   ]
  },
  {
   "cell_type": "code",
   "execution_count": 54,
   "id": "20fd1dd4-24e5-4aee-8052-d9f741c364bd",
   "metadata": {},
   "outputs": [
    {
     "data": {
      "text/plain": [
       "month\n",
       "Janeiro        52587.0\n",
       "Fevereiro      30952.0\n",
       "Março          35118.0\n",
       "Abril          28364.0\n",
       "Maio           46083.0\n",
       "Junho         111405.0\n",
       "Julho         217620.0\n",
       "Agosto        740841.0\n",
       "Setembro     1015925.0\n",
       "Outubro       629665.0\n",
       "Novembro      312326.0\n",
       "Dezembro      152596.0\n",
       "Name: number, dtype: float64"
      ]
     },
     "execution_count": 54,
     "metadata": {},
     "output_type": "execute_result"
    }
   ],
   "source": [
    "forest_fire_per_month"
   ]
  },
  {
   "cell_type": "code",
   "execution_count": 56,
   "id": "4030ca8d-b1dc-4587-bd42-563cfc170a73",
   "metadata": {},
   "outputs": [],
   "source": [
    "forest_fire_per_month = forest_fire_per_month.to_frame()"
   ]
  },
  {
   "cell_type": "code",
   "execution_count": 58,
   "id": "0b1ecacf-9006-424a-a265-b9c1bf5b00ed",
   "metadata": {},
   "outputs": [
    {
     "data": {
      "text/html": [
       "<div>\n",
       "<style scoped>\n",
       "    .dataframe tbody tr th:only-of-type {\n",
       "        vertical-align: middle;\n",
       "    }\n",
       "\n",
       "    .dataframe tbody tr th {\n",
       "        vertical-align: top;\n",
       "    }\n",
       "\n",
       "    .dataframe thead th {\n",
       "        text-align: right;\n",
       "    }\n",
       "</style>\n",
       "<table border=\"1\" class=\"dataframe\">\n",
       "  <thead>\n",
       "    <tr style=\"text-align: right;\">\n",
       "      <th></th>\n",
       "      <th>number</th>\n",
       "    </tr>\n",
       "    <tr>\n",
       "      <th>month</th>\n",
       "      <th></th>\n",
       "    </tr>\n",
       "  </thead>\n",
       "  <tbody>\n",
       "    <tr>\n",
       "      <th>Janeiro</th>\n",
       "      <td>52587.0</td>\n",
       "    </tr>\n",
       "    <tr>\n",
       "      <th>Fevereiro</th>\n",
       "      <td>30952.0</td>\n",
       "    </tr>\n",
       "    <tr>\n",
       "      <th>Março</th>\n",
       "      <td>35118.0</td>\n",
       "    </tr>\n",
       "    <tr>\n",
       "      <th>Abril</th>\n",
       "      <td>28364.0</td>\n",
       "    </tr>\n",
       "    <tr>\n",
       "      <th>Maio</th>\n",
       "      <td>46083.0</td>\n",
       "    </tr>\n",
       "    <tr>\n",
       "      <th>Junho</th>\n",
       "      <td>111405.0</td>\n",
       "    </tr>\n",
       "    <tr>\n",
       "      <th>Julho</th>\n",
       "      <td>217620.0</td>\n",
       "    </tr>\n",
       "    <tr>\n",
       "      <th>Agosto</th>\n",
       "      <td>740841.0</td>\n",
       "    </tr>\n",
       "    <tr>\n",
       "      <th>Setembro</th>\n",
       "      <td>1015925.0</td>\n",
       "    </tr>\n",
       "    <tr>\n",
       "      <th>Outubro</th>\n",
       "      <td>629665.0</td>\n",
       "    </tr>\n",
       "    <tr>\n",
       "      <th>Novembro</th>\n",
       "      <td>312326.0</td>\n",
       "    </tr>\n",
       "    <tr>\n",
       "      <th>Dezembro</th>\n",
       "      <td>152596.0</td>\n",
       "    </tr>\n",
       "  </tbody>\n",
       "</table>\n",
       "</div>"
      ],
      "text/plain": [
       "              number\n",
       "month               \n",
       "Janeiro      52587.0\n",
       "Fevereiro    30952.0\n",
       "Março        35118.0\n",
       "Abril        28364.0\n",
       "Maio         46083.0\n",
       "Junho       111405.0\n",
       "Julho       217620.0\n",
       "Agosto      740841.0\n",
       "Setembro   1015925.0\n",
       "Outubro     629665.0\n",
       "Novembro    312326.0\n",
       "Dezembro    152596.0"
      ]
     },
     "execution_count": 58,
     "metadata": {},
     "output_type": "execute_result"
    }
   ],
   "source": [
    "forest_fire_per_month"
   ]
  },
  {
   "cell_type": "code",
   "execution_count": 60,
   "id": "3b29058b-f4e9-49e8-9571-fe0292b246fb",
   "metadata": {},
   "outputs": [],
   "source": [
    "forest_fire_per_month.reset_index(level = 0, inplace = True)"
   ]
  },
  {
   "cell_type": "code",
   "execution_count": 62,
   "id": "13954f34-9bd4-405f-82cc-8b2e00fa9fdb",
   "metadata": {},
   "outputs": [
    {
     "data": {
      "text/html": [
       "<div>\n",
       "<style scoped>\n",
       "    .dataframe tbody tr th:only-of-type {\n",
       "        vertical-align: middle;\n",
       "    }\n",
       "\n",
       "    .dataframe tbody tr th {\n",
       "        vertical-align: top;\n",
       "    }\n",
       "\n",
       "    .dataframe thead th {\n",
       "        text-align: right;\n",
       "    }\n",
       "</style>\n",
       "<table border=\"1\" class=\"dataframe\">\n",
       "  <thead>\n",
       "    <tr style=\"text-align: right;\">\n",
       "      <th></th>\n",
       "      <th>month</th>\n",
       "      <th>number</th>\n",
       "    </tr>\n",
       "  </thead>\n",
       "  <tbody>\n",
       "    <tr>\n",
       "      <th>0</th>\n",
       "      <td>Janeiro</td>\n",
       "      <td>52587.0</td>\n",
       "    </tr>\n",
       "    <tr>\n",
       "      <th>1</th>\n",
       "      <td>Fevereiro</td>\n",
       "      <td>30952.0</td>\n",
       "    </tr>\n",
       "    <tr>\n",
       "      <th>2</th>\n",
       "      <td>Março</td>\n",
       "      <td>35118.0</td>\n",
       "    </tr>\n",
       "    <tr>\n",
       "      <th>3</th>\n",
       "      <td>Abril</td>\n",
       "      <td>28364.0</td>\n",
       "    </tr>\n",
       "    <tr>\n",
       "      <th>4</th>\n",
       "      <td>Maio</td>\n",
       "      <td>46083.0</td>\n",
       "    </tr>\n",
       "    <tr>\n",
       "      <th>5</th>\n",
       "      <td>Junho</td>\n",
       "      <td>111405.0</td>\n",
       "    </tr>\n",
       "    <tr>\n",
       "      <th>6</th>\n",
       "      <td>Julho</td>\n",
       "      <td>217620.0</td>\n",
       "    </tr>\n",
       "    <tr>\n",
       "      <th>7</th>\n",
       "      <td>Agosto</td>\n",
       "      <td>740841.0</td>\n",
       "    </tr>\n",
       "    <tr>\n",
       "      <th>8</th>\n",
       "      <td>Setembro</td>\n",
       "      <td>1015925.0</td>\n",
       "    </tr>\n",
       "    <tr>\n",
       "      <th>9</th>\n",
       "      <td>Outubro</td>\n",
       "      <td>629665.0</td>\n",
       "    </tr>\n",
       "    <tr>\n",
       "      <th>10</th>\n",
       "      <td>Novembro</td>\n",
       "      <td>312326.0</td>\n",
       "    </tr>\n",
       "    <tr>\n",
       "      <th>11</th>\n",
       "      <td>Dezembro</td>\n",
       "      <td>152596.0</td>\n",
       "    </tr>\n",
       "  </tbody>\n",
       "</table>\n",
       "</div>"
      ],
      "text/plain": [
       "        month     number\n",
       "0     Janeiro    52587.0\n",
       "1   Fevereiro    30952.0\n",
       "2       Março    35118.0\n",
       "3       Abril    28364.0\n",
       "4        Maio    46083.0\n",
       "5       Junho   111405.0\n",
       "6       Julho   217620.0\n",
       "7      Agosto   740841.0\n",
       "8    Setembro  1015925.0\n",
       "9     Outubro   629665.0\n",
       "10   Novembro   312326.0\n",
       "11   Dezembro   152596.0"
      ]
     },
     "execution_count": 62,
     "metadata": {},
     "output_type": "execute_result"
    }
   ],
   "source": [
    "forest_fire_per_month"
   ]
  },
  {
   "cell_type": "code",
   "execution_count": 66,
   "id": "ea30a481-37f1-4d37-88b7-78a46a944a95",
   "metadata": {},
   "outputs": [
    {
     "name": "stdout",
     "output_type": "stream",
     "text": [
      "January\n",
      "....\n",
      "February\n",
      "....\n",
      "March\n",
      "....\n",
      "April\n",
      "....\n",
      "May\n",
      "....\n",
      "June\n",
      "....\n",
      "July\n",
      "....\n",
      "August\n",
      "....\n",
      "September\n",
      "....\n",
      "October\n",
      "....\n",
      "November\n",
      "....\n",
      "December\n",
      "....\n"
     ]
    }
   ],
   "source": [
    "for month in month_unique:\n",
    "    translated = GoogleTranslator(source = \"auto\", target=\"en\").translate(month)\n",
    "    print(translated)\n",
    "    print(\"....\")"
   ]
  },
  {
   "cell_type": "code",
   "execution_count": 74,
   "id": "2d9e0f0d-6945-416e-b010-a46fb61b0f61",
   "metadata": {},
   "outputs": [
    {
     "name": "stdout",
     "output_type": "stream",
     "text": [
      "        month     number\n",
      "0     January    52587.0\n",
      "1    February    30952.0\n",
      "2       March    35118.0\n",
      "3       April    28364.0\n",
      "4         May    46083.0\n",
      "5        June   111405.0\n",
      "6        July   217620.0\n",
      "7      August   740841.0\n",
      "8   September  1015925.0\n",
      "9     October   629665.0\n",
      "10   November   312326.0\n",
      "11   December   152596.0\n"
     ]
    }
   ],
   "source": [
    "for i,m in enumerate(forest_fire_per_month[\"month\"]):\n",
    "    translated = GoogleTranslator(source = \"auto\", target = \"en\").translate(m)\n",
    "    month1 = translated\n",
    "    forest_fire_per_month.at[i, 'month'] = month1\n",
    "print(forest_fire_per_month)"
   ]
  },
  {
   "cell_type": "code",
   "execution_count": 82,
   "id": "2e056821-e08d-4c15-ba76-b7c0307edf7e",
   "metadata": {},
   "outputs": [
    {
     "data": {
      "text/plain": [
       "Text(0, 0.5, 'Number of Forest Fires')"
      ]
     },
     "execution_count": 82,
     "metadata": {},
     "output_type": "execute_result"
    },
    {
     "data": {
      "image/png": "[encoded data removed]",
      "text/plain": [
       "<Figure size 1500x2000 with 1 Axes>"
      ]
     },
     "metadata": {},
     "output_type": "display_data"
    }
   ],
   "source": [
    "plt.figure(figsize=(15, 20)) \n",
    "plt.bar(\n",
    "    forest_fire_per_month['month'],\n",
    "    forest_fire_per_month['number'],\n",
    "    color = (0.5, 0.1, 0.4, 0.6)\n",
    ")\n",
    "plt.suptitle('Amazon Forest Fires Over the Months', fontsize = 20)\n",
    "plt.title(\"Data from 1998-2017\", fontsize = 20)\n",
    "plt.xlabel('Month', fontsize = 20)\n",
    "plt.ylabel(\"Number of Forest Fires\", fontsize = 20)"
   ]
  },
  {
   "cell_type": "code",
   "execution_count": 106,
   "id": "862bb303-99cc-4b97-aee0-ceb029a0a4e1",
   "metadata": {},
   "outputs": [
    {
     "data": {
      "text/plain": [
       "(0.0, 1215925.0)"
      ]
     },
     "execution_count": 106,
     "metadata": {},
     "output_type": "execute_result"
    },
    {
     "data": {
      "image/png": "[encoded data removed]",
      "text/plain": [
       "<Figure size 640x480 with 1 Axes>"
      ]
     },
     "metadata": {},
     "output_type": "display_data"
    }
   ],
   "source": [
    "for i, num in enumerate(forest_fire_per_month['number']):\n",
    "    plt.text(\n",
    "        i,\n",
    "        num + 10000,\n",
    "        str(num),\n",
    "        ha = 'center',\n",
    "        fontsize=20\n",
    "    )\n",
    "\n",
    "plt.setp(plt.gca().get_xticklabels(),\n",
    "         rotation=45,\n",
    "         ha=\"right\",\n",
    "         fontsize=20)\n",
    "\n",
    "plt.setp(plt.gca().get_yticklabels(),\n",
    "         fontsize=20)\n",
    "\n",
    "\n",
    "plt.ylim(0, forest_fire_per_month['number'].max() + 200000)"
   ]
  },
  {
   "cell_type": "code",
   "execution_count": null,
   "id": "4bf6ad1e-a5fe-4086-ad3e-8d7e38403f9f",
   "metadata": {},
   "outputs": [],
   "source": []
  }
 ],
 "metadata": {
  "kernelspec": {
   "display_name": "Python [conda env:base] *",
   "language": "python",
   "name": "conda-base-py"
  },
  "language_info": {
   "codemirror_mode": {
    "name": "ipython",
    "version": 3
   },
   "file_extension": ".py",
   "mimetype": "text/x-python",
   "name": "python",
   "nbconvert_exporter": "python",
   "pygments_lexer": "ipython3",
   "version": "3.12.7"
  }
 },
 "nbformat": 4,
 "nbformat_minor": 5
}
